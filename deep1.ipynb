{
 "cells": [
  {
   "cell_type": "markdown",
   "metadata": {},
   "source": [
    "## Lab 2 "
   ]
  },
  {
   "cell_type": "code",
   "execution_count": 9,
   "metadata": {},
   "outputs": [],
   "source": [
    "# lägg till inititala moduler/paket \n",
    "import pandas as pd\n",
    "import seaborn as sns\n",
    "import matplotlib.pyplot as plt\n",
    "from pathlib import Path\n",
    "import cv2\n",
    "import os\n",
    "\n"
   ]
  },
  {
   "cell_type": "code",
   "execution_count": 7,
   "metadata": {},
   "outputs": [
    {
     "name": "stdout",
     "output_type": "stream",
     "text": [
      "data_path_test=WindowsPath('c:/Source/AI-deep_learning/original_data/test/test')\n",
      "data_path_train=WindowsPath('c:/Source/AI-deep_learning/original_data/train/train')\n"
     ]
    }
   ],
   "source": [
    "# start EDA\n",
    "\n",
    "data_path = Path().absolute() / \"original_data\"\n",
    "data_path_test=data_path / \"test/test\"\n",
    "data_path_train=data_path / \"train/train\"\n",
    "print(f\"{data_path_test=}\")\n",
    "print(f\"{data_path_train=}\")\n",
    "\n",
    "# test 1.jpg - 12500.jpg\n",
    "# train  cat0.jpg - cat12499.jpg, dog0-12499.jpg\n",
    "\n"
   ]
  },
  {
   "cell_type": "code",
   "execution_count": 8,
   "metadata": {},
   "outputs": [
    {
     "name": "stdout",
     "output_type": "stream",
     "text": [
      "type(image) = <class 'numpy.ndarray'>\n",
      "image.shape = (499, 381, 3)\n"
     ]
    },
    {
     "data": {
      "text/plain": [
       "(0, 255)"
      ]
     },
     "execution_count": 8,
     "metadata": {},
     "output_type": "execute_result"
    }
   ],
   "source": [
    "image = plt.imread(data_path_test / \"1.jpg\")\n",
    "\n",
    "print(f\"{type(image) = }\")\n",
    "# the last dimension indicates that its colors and in \n",
    "# open cv it is actually BGR and not RGB \n",
    "print(f\"{image.shape = }\")\n",
    "min(image.flatten()), max(image.flatten()) "
   ]
  },
  {
   "cell_type": "code",
   "execution_count": null,
   "metadata": {},
   "outputs": [],
   "source": [
    "res_dogs=[]\n",
    "res_cats=[]\n",
    "for filen in os.listdir(data_path_train):\n",
    "    # koll så att filen är en fil och inte dir/bibl, symb länk\n",
    "    if os.path.isfile(os.path.join(data_path_train, filen)):\n",
    "        # add filename to list\n",
    "        if substr(filen,'dog'):\n",
    "            res_dogs.append(file_path)\n",
    "print(res)"
   ]
  }
 ],
 "metadata": {
  "kernelspec": {
   "display_name": "venv",
   "language": "python",
   "name": "python3"
  },
  "language_info": {
   "codemirror_mode": {
    "name": "ipython",
    "version": 3
   },
   "file_extension": ".py",
   "mimetype": "text/x-python",
   "name": "python",
   "nbconvert_exporter": "python",
   "pygments_lexer": "ipython3",
   "version": "3.11.7"
  }
 },
 "nbformat": 4,
 "nbformat_minor": 2
}
