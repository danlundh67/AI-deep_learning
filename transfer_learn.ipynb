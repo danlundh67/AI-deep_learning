{
 "cells": [
  {
   "cell_type": "markdown",
   "metadata": {},
   "source": [
    "#Transfer Learning\n",
    "\n"
   ]
  },
  {
   "cell_type": "markdown",
   "metadata": {},
   "source": [
    "### Kort sammanfattning av Rethinking the Inception Architecture for Computer Vision\n",
    "\n",
    "\n"
   ]
  },
  {
   "cell_type": "code",
   "execution_count": 2,
   "metadata": {},
   "outputs": [],
   "source": [
    "#import tensorflow_datasets as tfds\n",
    "import tensorflow as tf \n",
    "import matplotlib.pyplot as plt \n",
    "import numpy as np \n",
    "import pandas as pd \n",
    "\n"
   ]
  },
  {
   "cell_type": "code",
   "execution_count": 8,
   "metadata": {},
   "outputs": [],
   "source": [
    "#from tensorflow.keras.applications import InceptionV3\n",
    "\n",
    "import ssl\n",
    "ssl._create_default_https_context = ssl._create_unverified_context\n",
    "\n",
    "base_model = tf.keras.applications.InceptionV3(input_shape=(120,120,3), include_top=False, weights='imagenet')\n",
    "\n",
    "# model=keras.applications.InceptionV3(\n",
    "#     include_top=True,\n",
    "#     weights=\"imagenet\",\n",
    "#     input_tensor=None,\n",
    "#     input_shape=None,\n",
    "#     pooling=None,\n",
    "#     classes=1000,\n",
    "#     classifier_activation=\"softmax\",\n",
    "# )\n",
    "\n",
    "# gör så att base model inte är tränbar - kan fixa detta senare\n",
    "\n",
    "for layer in base_model.layers:\n",
    "    layer.trainable=False\n",
    "\n",
    "\n",
    "#base_model.summary()\n",
    "\n"
   ]
  },
  {
   "cell_type": "code",
   "execution_count": 14,
   "metadata": {},
   "outputs": [
    {
     "name": "stdout",
     "output_type": "stream",
     "text": [
      "0.5\n"
     ]
    }
   ],
   "source": [
    "from tensorflow.keras.optimizers import RMSprop\n",
    "from tensorflow.keras.optimizers import Adam\n",
    "from tensorflow.keras.models import Sequential\n",
    "# Skapa ett tillägg (efterbearbetning) till Inception-v3 modellen med ett flatten (input), mellanlager och output\n",
    "\n",
    "# Inspirerat från Medium.com\n",
    "\n",
    "def CNN_model(learning_rate=0.001, drop_rate=0.3):\n",
    "\n",
    "    print(drop_rate)\n",
    "    # default learning rate in Adam, Adam is an optimizor for learning rate, \n",
    "    # adam = Adam(learning_rate=learning_rate)\n",
    "\n",
    "    # model = Sequential(name=\"CNN_model\")\n",
    "    \n",
    "    # använd Inception-v3 modellen som input i tränbara modellen (dvs dess output blir input)\n",
    "    model = tf.keras.layers.Flatten()(base_model.output)\n",
    "    # lägg till ett dense \"hidden\" layer\n",
    "    model = tf.keras.layers.Dense(1024, activation='relu')(model)\n",
    "    # lägg till dropouts\n",
    "    model= tf.keras.layers.Dropout(drop_rate)(model)\n",
    "    # lägg till output layer (node)\n",
    "    model = tf.keras.layers.Dense(1, activation='sigmoid')(model)\n",
    "\n",
    "    # gör så att input går till Inception-v3 modellen\n",
    "    model= tf.keras.Model(base_model.input, model)\n",
    "\n",
    "    \n",
    "\n",
    "    model.compile(loss=\"binary_crossentropy\", \n",
    "                  optimizer=RMSprop(learning_rate=learning_rate), \n",
    "                  metrics=[\"acc\"]\n",
    "    )\n",
    "\n",
    "    return model\n",
    "\n",
    "model = CNN_model(.001, .5)\n"
   ]
  },
  {
   "cell_type": "code",
   "execution_count": null,
   "metadata": {},
   "outputs": [],
   "source": [
    "def load_data(pathfile):\n",
    "    f = open(pathfile, 'rb')\n",
    "    obj1, obj2 = pickle.load(f)\n",
    "    f.close()\n",
    "    arr = np.random.choice(np.arange(0, len(obj1)), size=len(obj1), replace=False)\n",
    "    obj3=[obj1[i] for i in arr]\n",
    "    obj4=[obj2[i] for i in arr]\n",
    "    return [obj3, obj4]\n",
    "\n",
    "X_train, y_train=load_data(\"experiment_small_data/train/train.dat\")\n",
    "X_test, y_test=load_data(\"experiment_small_data/test/test.dat\")\n",
    "X_train2, y_train2 =load_data(\"experiment_small_data/train/train2.dat\")\n",
    "X_val, y_val=load_data(\"experiment_small_data/val/validate.dat\")\n",
    "\n",
    "def toOneHot(data):\n",
    "    code=[]\n",
    "    for x in data:\n",
    "        if x=='Dog':\n",
    "            code.append(0)\n",
    "        else:\n",
    "            code.append(1)\n",
    "    return code\n",
    "\n",
    "# Y_xxx -> y_train, y_test, y_train2, y_val (experimental small)\n",
    "# y_xxx -> y_train_tiny, y_test_tiny, y_train2_tiny, y_val_tiny\n",
    "\n",
    "y_train=toOneHot(y_train)\n",
    "y_test=toOneHot(y_test)\n",
    "y_train2=toOneHot(y_train2) \n",
    "y_val=np.array(toOneHot(y_val))"
   ]
  },
  {
   "cell_type": "code",
   "execution_count": null,
   "metadata": {},
   "outputs": [],
   "source": [
    "size_x=120\n",
    "size_y=120\n",
    "\n",
    "def scale_images(image_arr):\n",
    "    #output_arr = []\n",
    "    #for image in image_arr:\n",
    "        # output_arr.append(cv2.resize(image,(size_x, size_y)))\n",
    "    output_arr = np.array([cv2.resize(image, (size_x, size_y)) for image in image_arr])\n",
    "    return output_arr\n",
    "\n",
    "\n",
    "X_train_scaled = scale_images(X_train)\n",
    "X_train2_scaled = scale_images(X_train2)\n",
    "X_test_scaled = scale_images(X_test)\n",
    "X_val_scaled = scale_images(X_val)\n",
    "\n",
    "\n",
    "X_train_scaled = X_train_scaled/255\n",
    "X_train2_scaled = X_train2_scaled/255\n",
    "X_test_scaled = X_test_scaled/255\n",
    "X_val_scaled = X_val_scaled/255"
   ]
  }
 ],
 "metadata": {
  "kernelspec": {
   "display_name": "venv",
   "language": "python",
   "name": "python3"
  },
  "language_info": {
   "codemirror_mode": {
    "name": "ipython",
    "version": 3
   },
   "file_extension": ".py",
   "mimetype": "text/x-python",
   "name": "python",
   "nbconvert_exporter": "python",
   "pygments_lexer": "ipython3",
   "version": "3.11.7"
  }
 },
 "nbformat": 4,
 "nbformat_minor": 2
}
